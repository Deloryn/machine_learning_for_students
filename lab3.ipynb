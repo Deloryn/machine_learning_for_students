{
 "cells": [
  {
   "cell_type": "markdown",
   "metadata": {},
   "source": [
    "```\n",
    "conda install -y h5py seaborn scikit-learn\n",
    "\n",
    "pip install tensorflow \n",
    "\n",
    "git clone git@github.com:fchollet/keras.git && cd keras && python setup.py install (w sali nie ma pewnie zainstalowanego gita, więc zainstalowanie kerasa sprowadzi się do wejścia na github.com/fchollet i sklonowania projektu keras poprzez ściągnięcie go jako archiwum *.zip, rozpakowanie a następnie wywołanie python setup.py install)\n",
    "\n",
    "ściągnać dane z https://drive.google.com/open?id=1e_eslOQrpP6lDZZ908RGLlqWzoAgt_4b (256MB) i rozpakować w folderze z notebookiem (folder data powinien pojawić się w głównym folderze z notebookiem)\n",
    "```"
   ]
  },
  {
   "cell_type": "markdown",
   "metadata": {
    "collapsed": true
   },
   "source": [
    "## Uczenie głębokie z wykorzystaniem dedykowanych narzędzi\n",
    "\n",
    "### Spis treści:\n",
    "    1) Wstęp: oprogramowanie dedykowane sieciom neuronowym\n",
    "    2) Wstęp do obliczeń symbolicznych\n",
    "    3) Keras\n",
    "    4.) Hands-on computer vision: prezentacja i ćwiczenie z rozpoznawania obrazu"
   ]
  },
  {
   "cell_type": "markdown",
   "metadata": {},
   "source": [
    "----"
   ]
  },
  {
   "cell_type": "markdown",
   "metadata": {
    "collapsed": true
   },
   "source": [
    "## 1.)  Wstęp: oprogramowanie dedykowane sieciom neuronowym"
   ]
  },
  {
   "cell_type": "markdown",
   "metadata": {},
   "source": [
    "- Wraz z rosnącym zainteresowaniem sieciami neuronowymi, rosło zapotrzebowanie na dedykowane narzędzia, które ułatwiłyby i przyspieszyły proces tworzenia, a następnie uczenia głębokich modeli. \n",
    "\n",
    "\n",
    "- Z upływem lat kolejne grupy badawcze prezentowały swoje rozwiązania, a w ostatnim czasie tematem zainteresował się również przemysł. Dzięki nowym źródłom finansowania i niesłabnącemu zapotrzebowaniu, większość frameworków jest obecnie aktywnie rozwijana i ulepszana."
   ]
  },
  {
   "cell_type": "markdown",
   "metadata": {},
   "source": [
    "- Do najpopularniejszych narzędzi należą:\n",
    "\n",
    "    - [Tensorflow](http://tensorflow.org) (**Google**)\n",
    "        - Python, Go, C++\n",
    "        - Najpopularniejszy z obecnie istniejących frameworków\n",
    "        - Najintensywniej rozwijany\n",
    "\n",
    "    - [Theano](http://deeplearning.net/software/theano/) (**U. Montreal**)\n",
    "        - Python\n",
    "        - Był prekursorem TensorFlow\n",
    "        - Rozwijany przez uniwersytet w Montrealu (non-profit)\n",
    "        - Obecnie coraz częściej porzucany na rzecz TF\n",
    "\n",
    "    - [Torch](http://torch.ch/) (**Facebook, Twitter**)\n",
    "        - Lua\n",
    "        - Najmniej popularny ze względu na brak bindingów Pythonowych\n",
    "        - Nie wspiera automatycznego różniczkowania\n",
    "\n",
    "    - [MXNet](http://mxnet.io/) (**Amazon**)\n",
    "        - Python, C++, Go, Julia, Scala, R, ...\n",
    "        - Najwydajniejszy pod względem pamięci \n",
    "        - Od niedawna wspierany przez Amazon"
   ]
  },
  {
   "cell_type": "markdown",
   "metadata": {},
   "source": [
    "<img style=\"float: left;\" src=\"img/tf-logo-2.png\"> \n",
    "<img style=\"float: left;\" src=\"img/th-logo.png\">\n",
    "<img style=\"float: left;\" src=\"img/torch-logo-f.png\">\n",
    "<img style=\"float: left;\" src=\"img/mx-logo.png\">"
   ]
  },
  {
   "cell_type": "markdown",
   "metadata": {},
   "source": [
    "- Wszystkie z tych narzędzi są rozwijane jako projekty OpenSource:\n",
    "\n",
    "    - https://github.com/tensorflow/tensorflow\n",
    "\n",
    "    - https://github.com/torch/torch7\n",
    "\n",
    "    - https://github.com/Theano/Theano\n",
    "\n",
    "    - https://github.com/dmlc/mxnet"
   ]
  },
  {
   "cell_type": "markdown",
   "metadata": {},
   "source": [
    "- Wymienione wyżej narzędzia to zazwyczaj biblioteki operujące na dosyć niskim poziomie abstrakcji.\n",
    "\n",
    "- Wokół nich powstało wiele projektów mających jeszcze bardziej ułatwić użytkownikom uczenie sieci neuronowych.\n",
    "\n",
    "- Najpopularniejszym z takich projektów jest obecnie **Keras**, na którym skupimy się w dalszej części\n",
    "\n",
    "![k](img/keras-logo.png)"
   ]
  },
  {
   "cell_type": "markdown",
   "metadata": {},
   "source": [
    "----"
   ]
  },
  {
   "cell_type": "markdown",
   "metadata": {},
   "source": [
    "## 2.) Wstęp do obliczeń symbolicznych\n",
    "\n",
    "- Sercem większości frameworków wysokiego poziomu jest jeden z wyżej wymienionych silników.\n",
    "- Keras, którego będziemy dzisiaj używać, posiada dwa takie backendy: Tensorflow oraz Theano\n",
    "- Warto poświęcić chwilę, żeby zapoznać się z najbardziej podstawowymi zasadami ich działania."
   ]
  },
  {
   "cell_type": "markdown",
   "metadata": {
    "collapsed": true
   },
   "source": [
    "- Tensorflow i Theano to przykłady narzędzi, które tworzą graf operacji symbolicznych.\n",
    "\n",
    "- Oznacza to, że operacje wykonywane na zmiennych nie mają natychmiastowego efektu. Są jedynie dodawane do grafu.\n",
    "\n",
    "- Następnie graf jest kompilowany i wykonwyany."
   ]
  },
  {
   "cell_type": "markdown",
   "metadata": {},
   "source": [
    "Przykład:"
   ]
  },
  {
   "cell_type": "code",
   "execution_count": 1,
   "metadata": {},
   "outputs": [],
   "source": [
    "import tensorflow as tf\n",
    "import numpy as np\n",
    "\n",
    "from helpers3 import show_graph\n",
    "from helpers3 import execute_tf_graph\n",
    "\n",
    "def get_tf_graph():\n",
    "    return tf.get_default_graph().as_graph_def()"
   ]
  },
  {
   "cell_type": "code",
   "execution_count": 2,
   "metadata": {},
   "outputs": [
    {
     "name": "stdout",
     "output_type": "stream",
     "text": [
      "Tensor(\"add:0\", shape=(), dtype=float32)\n"
     ]
    }
   ],
   "source": [
    "tf.reset_default_graph()\n",
    "\n",
    "a = tf.Variable(2.)\n",
    "b = tf.Variable(2.)\n",
    "result = a + b\n",
    "\n",
    "print(result)"
   ]
  },
  {
   "cell_type": "markdown",
   "metadata": {},
   "source": [
    "`result` nie jest równe 4! \n",
    "\n",
    "Jest tylko węzłem w grafie, symbolizującym operację dodania zmiennej `a` do `b`"
   ]
  },
  {
   "cell_type": "code",
   "execution_count": 3,
   "metadata": {
    "scrolled": true
   },
   "outputs": [
    {
     "data": {
      "text/html": [
       "\n",
       "        <iframe seamless style=\"width:900px;height:300px;border:0\" srcdoc=\"\n",
       "        <script>\n",
       "          function load() {\n",
       "            document.getElementById(&quot;graph0.5257815687743098&quot;).pbtxt = 'node {\\n  name: &quot;Variable/initial_value&quot;\\n  op: &quot;Const&quot;\\n  attr {\\n    key: &quot;dtype&quot;\\n    value {\\n      type: DT_FLOAT\\n    }\\n  }\\n  attr {\\n    key: &quot;value&quot;\\n    value {\\n      tensor {\\n        dtype: DT_FLOAT\\n        tensor_shape {\\n        }\\n        float_val: 2.0\\n      }\\n    }\\n  }\\n}\\nnode {\\n  name: &quot;Variable&quot;\\n  op: &quot;VariableV2&quot;\\n  attr {\\n    key: &quot;container&quot;\\n    value {\\n      s: &quot;&quot;\\n    }\\n  }\\n  attr {\\n    key: &quot;dtype&quot;\\n    value {\\n      type: DT_FLOAT\\n    }\\n  }\\n  attr {\\n    key: &quot;shape&quot;\\n    value {\\n      shape {\\n      }\\n    }\\n  }\\n  attr {\\n    key: &quot;shared_name&quot;\\n    value {\\n      s: &quot;&quot;\\n    }\\n  }\\n}\\nnode {\\n  name: &quot;Variable/Assign&quot;\\n  op: &quot;Assign&quot;\\n  input: &quot;Variable&quot;\\n  input: &quot;Variable/initial_value&quot;\\n  attr {\\n    key: &quot;T&quot;\\n    value {\\n      type: DT_FLOAT\\n    }\\n  }\\n  attr {\\n    key: &quot;_class&quot;\\n    value {\\n      list {\\n        s: &quot;loc:@Variable&quot;\\n      }\\n    }\\n  }\\n  attr {\\n    key: &quot;use_locking&quot;\\n    value {\\n      b: true\\n    }\\n  }\\n  attr {\\n    key: &quot;validate_shape&quot;\\n    value {\\n      b: true\\n    }\\n  }\\n}\\nnode {\\n  name: &quot;Variable/read&quot;\\n  op: &quot;Identity&quot;\\n  input: &quot;Variable&quot;\\n  attr {\\n    key: &quot;T&quot;\\n    value {\\n      type: DT_FLOAT\\n    }\\n  }\\n  attr {\\n    key: &quot;_class&quot;\\n    value {\\n      list {\\n        s: &quot;loc:@Variable&quot;\\n      }\\n    }\\n  }\\n}\\nnode {\\n  name: &quot;Variable_1/initial_value&quot;\\n  op: &quot;Const&quot;\\n  attr {\\n    key: &quot;dtype&quot;\\n    value {\\n      type: DT_FLOAT\\n    }\\n  }\\n  attr {\\n    key: &quot;value&quot;\\n    value {\\n      tensor {\\n        dtype: DT_FLOAT\\n        tensor_shape {\\n        }\\n        float_val: 2.0\\n      }\\n    }\\n  }\\n}\\nnode {\\n  name: &quot;Variable_1&quot;\\n  op: &quot;VariableV2&quot;\\n  attr {\\n    key: &quot;container&quot;\\n    value {\\n      s: &quot;&quot;\\n    }\\n  }\\n  attr {\\n    key: &quot;dtype&quot;\\n    value {\\n      type: DT_FLOAT\\n    }\\n  }\\n  attr {\\n    key: &quot;shape&quot;\\n    value {\\n      shape {\\n      }\\n    }\\n  }\\n  attr {\\n    key: &quot;shared_name&quot;\\n    value {\\n      s: &quot;&quot;\\n    }\\n  }\\n}\\nnode {\\n  name: &quot;Variable_1/Assign&quot;\\n  op: &quot;Assign&quot;\\n  input: &quot;Variable_1&quot;\\n  input: &quot;Variable_1/initial_value&quot;\\n  attr {\\n    key: &quot;T&quot;\\n    value {\\n      type: DT_FLOAT\\n    }\\n  }\\n  attr {\\n    key: &quot;_class&quot;\\n    value {\\n      list {\\n        s: &quot;loc:@Variable_1&quot;\\n      }\\n    }\\n  }\\n  attr {\\n    key: &quot;use_locking&quot;\\n    value {\\n      b: true\\n    }\\n  }\\n  attr {\\n    key: &quot;validate_shape&quot;\\n    value {\\n      b: true\\n    }\\n  }\\n}\\nnode {\\n  name: &quot;Variable_1/read&quot;\\n  op: &quot;Identity&quot;\\n  input: &quot;Variable_1&quot;\\n  attr {\\n    key: &quot;T&quot;\\n    value {\\n      type: DT_FLOAT\\n    }\\n  }\\n  attr {\\n    key: &quot;_class&quot;\\n    value {\\n      list {\\n        s: &quot;loc:@Variable_1&quot;\\n      }\\n    }\\n  }\\n}\\nnode {\\n  name: &quot;add&quot;\\n  op: &quot;Add&quot;\\n  input: &quot;Variable/read&quot;\\n  input: &quot;Variable_1/read&quot;\\n  attr {\\n    key: &quot;T&quot;\\n    value {\\n      type: DT_FLOAT\\n    }\\n  }\\n}\\n';\n",
       "          }\n",
       "        </script>\n",
       "        <link rel=&quot;import&quot; href=&quot;https://tensorboard.appspot.com/tf-graph-basic.build.html&quot; onload=load()>\n",
       "        <div style=&quot;height:600px&quot;>\n",
       "          <tf-graph-basic id=&quot;graph0.5257815687743098&quot;></tf-graph-basic>\n",
       "        </div>\n",
       "    \"></iframe>\n",
       "    "
      ],
      "text/plain": [
       "<IPython.core.display.HTML object>"
      ]
     },
     "metadata": {},
     "output_type": "display_data"
    }
   ],
   "source": [
    "graph = get_tf_graph()\n",
    "\n",
    "show_graph(graph_def=graph, width=900, height=300)"
   ]
  },
  {
   "cell_type": "markdown",
   "metadata": {},
   "source": [
    "Zbudowany graf możemy \"wykonać\", jako parametr `outputs` podając te zmienne, których wartość chcemy obliczyć."
   ]
  },
  {
   "cell_type": "code",
   "execution_count": 4,
   "metadata": {},
   "outputs": [
    {
     "data": {
      "text/plain": [
       "[4.0]"
      ]
     },
     "execution_count": 4,
     "metadata": {},
     "output_type": "execute_result"
    }
   ],
   "source": [
    "execute_tf_graph(result)"
   ]
  },
  {
   "cell_type": "markdown",
   "metadata": {},
   "source": [
    "Dobrze, ale co zrobić, jeżeli chcemy obliczyć sumę `2 + 3`. Czy musimy zbudować i skompilować cały graf od nowa?\n",
    "\n",
    "Na szczęście nie -- możemy podać wartości dowolnej zmiennej w grafie przy jego wywołaniu.\n",
    "\n",
    "Aby to zrobić, tworzymy słownik, który przypisze wybranym zmiennym odpowiednie wartości"
   ]
  },
  {
   "cell_type": "code",
   "execution_count": 5,
   "metadata": {},
   "outputs": [
    {
     "data": {
      "text/plain": [
       "[5.0]"
      ]
     },
     "execution_count": 5,
     "metadata": {},
     "output_type": "execute_result"
    }
   ],
   "source": [
    "inputs = {\n",
    "    a: 2,\n",
    "    b: 3\n",
    "}\n",
    "\n",
    "execute_tf_graph(outputs=result, inputs=inputs)"
   ]
  },
  {
   "cell_type": "markdown",
   "metadata": {},
   "source": [
    "Zwróć uwagę, że w słowniku tym nie podajemy nazw zmiennych (typu `str`), ale obiekty `Pythona`!\n",
    "\n",
    "**Uwaga!**: w praktyce, jeżeli chcemy, żeby nasza zmienna była inicjalizowana dopiero przy wywołaniu grafu, \n",
    "oraz żeby jej podanie było obowiązkowe, należy **tf.Variable** zamienić na **tf.placeholder**"
   ]
  },
  {
   "cell_type": "code",
   "execution_count": 6,
   "metadata": {},
   "outputs": [
    {
     "name": "stdout",
     "output_type": "stream",
     "text": [
      "You must feed a value for placeholder tensor 'zmienna_a' with dtype float\n",
      "\t [[node zmienna_a (defined at <ipython-input-6-f3622237045f>:2)  = Placeholder[dtype=DT_FLOAT, shape=<unknown>, _device=\"/job:localhost/replica:0/task:0/device:CPU:0\"]()]]\n"
     ]
    }
   ],
   "source": [
    "tf.reset_default_graph()\n",
    "a = tf.placeholder(dtype=np.float32, name='zmienna_a')\n",
    "result = a + 1\n",
    "\n",
    "try:\n",
    "    execute_tf_graph(result)\n",
    "except tf.errors.InvalidArgumentError as e:\n",
    "    print(e.message)"
   ]
  },
  {
   "cell_type": "markdown",
   "metadata": {},
   "source": [
    "----"
   ]
  },
  {
   "cell_type": "markdown",
   "metadata": {
    "collapsed": true
   },
   "source": [
    "### zadanie 1: \n",
    "    - oblicz kwadraty liczb 2, 3 i 4 używając TensorFlow. Wykorzystaj mechanizm placeholderów"
   ]
  },
  {
   "cell_type": "markdown",
   "metadata": {
    "collapsed": true
   },
   "source": [
    "### rozwiązanie 1: "
   ]
  },
  {
   "cell_type": "code",
   "execution_count": 39,
   "metadata": {},
   "outputs": [
    {
     "data": {
      "text/plain": [
       "[16]"
      ]
     },
     "execution_count": 39,
     "metadata": {},
     "output_type": "execute_result"
    }
   ],
   "source": [
    "# Tutaj rozwiązanie zadania 1#\n",
    "a = tf.placeholder(dtype=np.int32, name='a')\n",
    "result = a ** 2\n",
    "\n",
    "inputs = {\n",
    "    a: 2,\n",
    "}\n",
    "\n",
    "execute_tf_graph(outputs=result, inputs=inputs)\n",
    "\n",
    "inputs = {\n",
    "    a: 3,\n",
    "}\n",
    "\n",
    "execute_tf_graph(outputs=result, inputs=inputs)\n",
    "\n",
    "inputs = {\n",
    "    a: 4,\n",
    "}\n",
    "\n",
    "execute_tf_graph(outputs=result, inputs=inputs)"
   ]
  },
  {
   "cell_type": "markdown",
   "metadata": {
    "collapsed": true
   },
   "source": [
    "### zadanie 2: \n",
    "    - dodaj dwie macierze jednostkowe 2x2"
   ]
  },
  {
   "cell_type": "markdown",
   "metadata": {
    "collapsed": true
   },
   "source": [
    "### rozwiązanie 2: "
   ]
  },
  {
   "cell_type": "code",
   "execution_count": 51,
   "metadata": {
    "scrolled": true
   },
   "outputs": [
    {
     "data": {
      "text/plain": [
       "[array([[2, 0],\n",
       "        [0, 2]], dtype=int32)]"
      ]
     },
     "execution_count": 51,
     "metadata": {},
     "output_type": "execute_result"
    }
   ],
   "source": [
    "#Tutaj rozwiązanie zadania 2\n",
    "a = tf.placeholder(dtype=tf.int32, name='a')\n",
    "b = tf.placeholder(dtype=tf.int32, name='b')\n",
    "result = a + b\n",
    "\n",
    "inputs = {\n",
    "    a: np.identity(2),\n",
    "    b: np.identity(2)\n",
    "}\n",
    "\n",
    "execute_tf_graph(outputs=result, inputs=inputs)"
   ]
  },
  {
   "cell_type": "markdown",
   "metadata": {},
   "source": [
    "- Warto zaznaczyć, iż **Tensorflow został stworzony dla operacji na macierzach (tensorach)**. Radzi więc sobie wspaniale z wielowymiarowymi danymi. (Patrz rozw. powyżej)\n",
    "\n",
    "- Jakie są jednak konkretne zalety tego symbolicznego podejścia? Trzy najważniejsze to:\n",
    "    1. Optymalizacja: znając cały graf, kompilator może zoptymalizować wykonywane operacje\n",
    "    2. Współbieżność: kompilator sam zadba o to, aby wykonać obliczenia równolegle\n",
    "    3. Niezależność od architektury: Znając graf, kompilator może wygenerować kod dla CPU / GPU / FPGA itd.\n",
    "    \n",
    "- Szczególnie punkt trzeci jest tak istotny, gdyż obecnie do uczenia sieci neuronowych niemalże niezbędny jest procesor graficzny wspierający technologię `CUDA`"
   ]
  },
  {
   "cell_type": "markdown",
   "metadata": {
    "collapsed": true
   },
   "source": [
    "---- "
   ]
  },
  {
   "cell_type": "markdown",
   "metadata": {},
   "source": [
    "## 3.) Keras"
   ]
  },
  {
   "cell_type": "markdown",
   "metadata": {},
   "source": [
    "### Czym is Keras?\n",
    "\n",
    "Za https://keras.io:\n",
    "\n",
    "> ### Keras: Deep Learning library for Theano and TensorFlow\n",
    ">\n",
    "> Keras is a **high-level neural networks** library, written in **Python** and capable of running on top of either **TensorFlow** or **Theano**. It was developed with a focus on enabling fast experimentation. Being able to go from idea to result with the least possible delay is key to doing good research.\n",
    "\n",
    "- Jest to biblioteka mająca ułatwić tworzenie sieci neuronowych, operująca na wyższym poziomie abstrakcji niż tensorflow / theano\n",
    "- Jako backend obliczeniowy może wykorzystywać jeden z wyżej wymienionych silników\n"
   ]
  },
  {
   "cell_type": "markdown",
   "metadata": {},
   "source": [
    "### Dlaczego Keras?\n",
    "\n",
    "- Łatwy do opanowania\n",
    "- Czytelny\n",
    "- Popularny i aktywnie rozwijany \n",
    "- Dobrze udokumentowany"
   ]
  },
  {
   "cell_type": "markdown",
   "metadata": {},
   "source": [
    "### Jak nauczyć sieć neuronową?\n",
    "\n",
    "Będziemy potrzebować trzech elementów:\n",
    "1. Dane\n",
    "2. Architektura sieci\n",
    "3. Metoda optymalizacji\n",
    "    - Funkcja straty\n",
    "    - Algorytm optymalizacyjny"
   ]
  },
  {
   "cell_type": "markdown",
   "metadata": {
    "collapsed": true
   },
   "source": [
    "#### Dane\n",
    "\n",
    "- Keras współpracuje z numpy, w związku z tym można korzystać z dowolnego zbioru danych, który jesteśmy w stanie wczytać do pamięci.\n",
    "- Może korzystać ze zbiorów zbyt dużych, żeby zmieścić się w pamięci: potrzebna jest wtedy biblioteka `h5py`\n",
    "- Posiada także kilka wbudowanych zbiorów danych, jak np. mnist"
   ]
  },
  {
   "cell_type": "markdown",
   "metadata": {},
   "source": [
    "#### [MNIST](http://yann.lecun.com/exdb/mnist/)\n",
    "- klasyczny benchmark w computer vision (ponad 700 cytowań w pracach naukowych)\n",
    "- 60 000 obrazów przedstawiających cyfry napisane ludzką ręką\n",
    "- Można załadować bezpośrednio z kerasa\n",
    "\n",
    "![mnist](img/mnist.png)"
   ]
  },
  {
   "cell_type": "code",
   "execution_count": 9,
   "metadata": {
    "scrolled": true
   },
   "outputs": [
    {
     "name": "stdout",
     "output_type": "stream",
     "text": [
      "Downloading data from https://s3.amazonaws.com/img-datasets/mnist.npz\n"
     ]
    },
    {
     "name": "stderr",
     "output_type": "stream",
     "text": [
      "Using TensorFlow backend.\n"
     ]
    },
    {
     "name": "stdout",
     "output_type": "stream",
     "text": [
      "11493376/11490434 [==============================] - 5s 0us/step\n",
      "Wymiary zbioru, X: (60000, 28, 28), y: (60000,)\n"
     ]
    }
   ],
   "source": [
    "%matplotlib inline\n",
    "\n",
    "from keras.datasets import mnist\n",
    "from keras.utils import np_utils\n",
    "\n",
    "import seaborn as sns\n",
    "\n",
    "(X_train, y_train), (X_test, y_test) = mnist.load_data()\n",
    "img_size = 28\n",
    "\n",
    "print(\"Wymiary zbioru, X: {}, y: {}\".format(X_train.shape, y_train.shape))"
   ]
  },
  {
   "cell_type": "markdown",
   "metadata": {},
   "source": [
    "Przygotowanie danych: \n",
    "    - Obrazy, które trafiają do sieci neuronowej muszą mieć odpowiedni \"kształt\" (shape) oraz typ: \n",
    "        - (liczba_przykładów, szerokość, wysokość, liczba-kanałów) \n",
    "        - typem danych powinien być float32, a elementy macierzy powinny być w zakresie [0., 1.]\n",
    "    - Etykiety (informacja, którą cyfrę przedstawia dany obrazek), powinny mieć kształt (liczba_przykładów, liczba_cyfr) patrz poniżej"
   ]
  },
  {
   "cell_type": "code",
   "execution_count": 10,
   "metadata": {},
   "outputs": [],
   "source": [
    "# Keras oczekuje, iż etykiety będą macierzą binarną o kształcie (liczba_przykładów, liczba_możliwych_etykiet)\n",
    "# Mówimy, że dany obraz należy do klasy **i**, kiedy w kolumnie **i-tej** znajduje się 1\n",
    "# przykład:\n",
    "etykiety = [\n",
    "    0,\n",
    "    1,\n",
    "    2\n",
    "]\n",
    "\n",
    "etykiety_keras = [\n",
    "    [1, 0, 0, 0, 0, 0, 0, 0, 0],\n",
    "    [0, 1, 0, 0, 0, 0, 0, 0, 0],\n",
    "    [0, 0, 1, 0, 0, 0, 0, 0, 0]\n",
    "]\n",
    "\n",
    "# aby zamienić etykiety wczytane przez mnist.load_data(), skorzystamy z funkcji pomocniczej kerasa \"to_categorical\":\n",
    "Y_train = np_utils.to_categorical(y_train, 10)\n",
    "Y_test  = np_utils.to_categorical(y_test,  10)"
   ]
  },
  {
   "cell_type": "code",
   "execution_count": 11,
   "metadata": {},
   "outputs": [],
   "source": [
    "# Przygotujmy też same obrazki\n",
    "rozmiar = 28\n",
    "X_train = X_train.reshape(-1, rozmiar, rozmiar, 1)\n",
    "X_test  = X_test.reshape(-1,  rozmiar, rozmiar, 1)\n",
    "\n",
    "X_train = X_train.astype(np.float32) / 255.\n",
    "X_test  = X_test.astype(np.float32) / 255."
   ]
  },
  {
   "cell_type": "code",
   "execution_count": 12,
   "metadata": {},
   "outputs": [
    {
     "name": "stdout",
     "output_type": "stream",
     "text": [
      "Label:  4\n"
     ]
    },
    {
     "data": {
      "image/png": "[encoded data removed]",
      "text/plain": [
       "<Figure size 432x288 with 2 Axes>"
      ]
     },
     "metadata": {},
     "output_type": "display_data"
    }
   ],
   "source": [
    "# Sprawdźmy, jak wyglądają nasze dane:\n",
    "i = np.random.randint(0, y_train.shape[0])\n",
    "\n",
    "print(\"Label: \", y_train[i])\n",
    "sns.heatmap(X_train[i].reshape(rozmiar, rozmiar));"
   ]
  },
  {
   "cell_type": "markdown",
   "metadata": {
    "collapsed": true
   },
   "source": [
    "#### Architektura sieci\n",
    "- Keras wspiera dwie metody definiowania architektury: model liniowy i API funkcjonalne.\n",
    "- Skupimy się dzisiaj głównie na modelach liniowych, ponieważ w zupełności wystarczają one do większośći zastosowań praktycznych.\n",
    "- Kluczowym pojęciem przy definiowaniu architektury jest pojęcie **warstwy**"
   ]
  },
  {
   "cell_type": "markdown",
   "metadata": {
    "collapsed": true
   },
   "source": [
    "#### Warstwy:\n",
    "\n",
    "- Podstawowym elementem, z którego budowana jest sieć neuronowa, jest warstwa. \n",
    "- Model liniowy w kerasie to nic innego, jak tylko złożenie kolejnych, następujących po sobie warstw.\n",
    "- Warstwa (layer) jest podstawową jednostką przetwarzania: \n",
    "- przyjmuje ona jakąś macierz (tensor) na wejściu, modyfikuje ją, a następnie podaje na wyściu"
   ]
  },
  {
   "cell_type": "code",
   "execution_count": 13,
   "metadata": {},
   "outputs": [],
   "source": [
    "from keras.models import Sequential\n",
    "from keras.layers import Activation, Dropout, Flatten, Dense, Input\n",
    "\n",
    "from helpers3 import plot_confusion_matrix"
   ]
  },
  {
   "cell_type": "code",
   "execution_count": 14,
   "metadata": {},
   "outputs": [],
   "source": [
    "# Aby zobrazować to w praktyce, zaimplementujemy regresję logistyczną, poznaną na poprzednich zajęciach, z użyciem kerasa\n",
    "\n",
    "# zdefiniujmy najpierw warstwy, których użyjemy:\n",
    "\n",
    "# regresja logistyczna oczekuje jednowymiarowego wektora cech. Obrazki to macierze kwadratowe, należy je \"spłaszczyć\"\n",
    "flatten_layer = Flatten(input_shape=(rozmiar, rozmiar, 1))\n",
    "\n",
    "# następnie wektor cech jest mnożony przez macierz wag. Macierz wag ma rozmiar (liczba_cech x liczba_klas)\n",
    "# Keras sam odgadnie, jaka jest liczba cech! Podajemy jedynie liczbę klas.\n",
    "# Warstwą realizującą mnożenie macierzy jest warstwa Dense:\n",
    "matmul_layer = Dense(10)\n",
    "\n",
    "# Teraz nasz model pobiera na wejściu obrazek 20x20, a generuje wektor o rozmiarze (10, ), \n",
    "# gdzie każdy element tego wektora to \"wynik\" danej klasy. Należy zamienić jeszcze ten wynik na prawdopodobieństwa\n",
    "get_probas_layer = Activation(\"softmax\")\n",
    "\n",
    "# I to wszystko! Zbudujmy model ze zdefiniowanych wyżej warstw\n",
    "model = Sequential()\n",
    "model.add(flatten_layer)\n",
    "model.add(matmul_layer)\n",
    "model.add(get_probas_layer)"
   ]
  },
  {
   "cell_type": "markdown",
   "metadata": {},
   "source": [
    "#### Metoda optymalizacji\n",
    "- Keras musi wiedzieć, jaką funkcję straty chcemy minimalizować.\n",
    "- Musi także wiedzieć, jakiej metody ma użyć do minimalizacji\n",
    "- Dobra wiadomość: nie musimy umieć implementować tych elementów: keras o wszystko zadba!"
   ]
  },
  {
   "cell_type": "markdown",
   "metadata": {},
   "source": [
    "skorzystamy ze standardowego zestawu w przypadku klasyfikacji: straty logistycznej i optymalizatora [Adam](google.com)"
   ]
  },
  {
   "cell_type": "code",
   "execution_count": 15,
   "metadata": {},
   "outputs": [],
   "source": [
    "f_straty = \"categorical_crossentropy\"\n",
    "optymalizator = \"adam\"\n",
    "\n",
    "# Model należy jeszcze skompilować, podając wybraną stratę i optymalizator\n",
    "model.compile(loss=f_straty, optimizer=optymalizator)"
   ]
  },
  {
   "cell_type": "markdown",
   "metadata": {},
   "source": [
    "#### Uczenie:\n",
    "- Nasz model jest już kompletny!\n",
    "- Teraz wystarczy wywołać funkcję, która rozpocznie proces uczenia"
   ]
  },
  {
   "cell_type": "code",
   "execution_count": 16,
   "metadata": {},
   "outputs": [
    {
     "name": "stderr",
     "output_type": "stream",
     "text": [
      "/usr/lib/python3/dist-packages/ipykernel_launcher.py:2: UserWarning: The `nb_epoch` argument in `fit` has been renamed `epochs`.\n",
      "  \n"
     ]
    },
    {
     "name": "stdout",
     "output_type": "stream",
     "text": [
      "Epoch 1/5\n",
      "60000/60000 [==============================] - 2s 30us/step - loss: 0.4721\n",
      "Epoch 2/5\n",
      "60000/60000 [==============================] - 2s 29us/step - loss: 0.3040\n",
      "Epoch 3/5\n",
      "60000/60000 [==============================] - 2s 29us/step - loss: 0.2830\n",
      "Epoch 4/5\n",
      "60000/60000 [==============================] - 2s 29us/step - loss: 0.2729\n",
      "Epoch 5/5\n",
      "60000/60000 [==============================] - 2s 29us/step - loss: 0.2665\n"
     ]
    },
    {
     "data": {
      "text/plain": [
       "<keras.callbacks.History at 0x7fd06451e668>"
      ]
     },
     "execution_count": 16,
     "metadata": {},
     "output_type": "execute_result"
    }
   ],
   "source": [
    "liczba_iteracji = 5\n",
    "model.fit(X_train, Y_train, nb_epoch=liczba_iteracji)"
   ]
  },
  {
   "cell_type": "code",
   "execution_count": 17,
   "metadata": {},
   "outputs": [
    {
     "name": "stdout",
     "output_type": "stream",
     "text": [
      "\n",
      "Accuracy: 0.9263\n"
     ]
    },
    {
     "data": {
      "image/png": "[encoded data removed]",
      "text/plain": [
       "<Figure size 432x432 with 2 Axes>"
      ]
     },
     "metadata": {},
     "output_type": "display_data"
    }
   ],
   "source": [
    "# jak sobie poradziliśmy?\n",
    "preds = model.predict_classes(X_test)\n",
    "acc   = np.mean(preds == y_test)\n",
    "\n",
    "plot_confusion_matrix(y_test, preds)\n",
    "print(\"\\nAccuracy: {}\".format(acc))"
   ]
  },
  {
   "cell_type": "markdown",
   "metadata": {},
   "source": [
    "#### Gdzie są sieci neuronowe?!\n",
    "\n",
    "- Powyższy model to zwykła regresja logistyczna w kerasie. Jak przejść od niej do uczenia głębokiego? \n",
    "- Proste: dodać więcej warstw!"
   ]
  },
  {
   "cell_type": "code",
   "execution_count": 18,
   "metadata": {},
   "outputs": [],
   "source": [
    "model = Sequential()\n",
    "\n",
    "model.add(Flatten(input_shape=(rozmiar, rozmiar, 1)))\n",
    "\n",
    "# pomiędzy warstwami mnożącymi macierze powinny znajdować się funkcje aktywacji\n",
    "model.add(Dense(32))\n",
    "model.add(Activation(\"relu\"))\n",
    "model.add(Dropout(0.15)) # todo?\n",
    "\n",
    "model.add(Dense(32))\n",
    "model.add(Activation(\"relu\")) \n",
    "model.add(Dropout(0.15)) \n",
    "\n",
    "model.add(Dense(10))\n",
    "model.add(Activation(\"softmax\")) \n",
    "\n",
    "model.compile('adam', 'categorical_crossentropy')"
   ]
  },
  {
   "cell_type": "code",
   "execution_count": 19,
   "metadata": {},
   "outputs": [
    {
     "name": "stderr",
     "output_type": "stream",
     "text": [
      "/usr/lib/python3/dist-packages/ipykernel_launcher.py:2: UserWarning: The `nb_epoch` argument in `fit` has been renamed `epochs`.\n",
      "  \n"
     ]
    },
    {
     "name": "stdout",
     "output_type": "stream",
     "text": [
      "Epoch 1/5\n",
      "60000/60000 [==============================] - 3s 48us/step - loss: 0.5121\n",
      "Epoch 2/5\n",
      "60000/60000 [==============================] - 3s 49us/step - loss: 0.2876\n",
      "Epoch 3/5\n",
      "60000/60000 [==============================] - 3s 45us/step - loss: 0.2461\n",
      "Epoch 4/5\n",
      "60000/60000 [==============================] - 3s 43us/step - loss: 0.2182\n",
      "Epoch 5/5\n",
      "60000/60000 [==============================] - 3s 44us/step - loss: 0.2034\n"
     ]
    },
    {
     "data": {
      "text/plain": [
       "<keras.callbacks.History at 0x7fd0ba7c28d0>"
      ]
     },
     "execution_count": 19,
     "metadata": {},
     "output_type": "execute_result"
    }
   ],
   "source": [
    "liczba_iteracji = 5\n",
    "model.fit(X_train, Y_train, nb_epoch=liczba_iteracji)"
   ]
  },
  {
   "cell_type": "code",
   "execution_count": 20,
   "metadata": {},
   "outputs": [
    {
     "name": "stdout",
     "output_type": "stream",
     "text": [
      "\n",
      "Accuracy: 0.9596\n"
     ]
    }
   ],
   "source": [
    "# jak sobie poradziliśmy?\n",
    "preds = model.predict_classes(X_test)\n",
    "acc   = np.mean(preds == y_test)\n",
    "\n",
    "print(\"\\nAccuracy: {}\".format(acc))"
   ]
  },
  {
   "cell_type": "markdown",
   "metadata": {},
   "source": [
    "#### Sieci konwolucyjne\n",
    "- Dotychczas jako podstawowych elementów przetwarzania używaliśmy warstw, które wykonują proste mnożenie macierzy\n",
    "- Istnieją warstwy, które dedykowane są konkretnie rozpoznawaniu obrazów: tzw. warstwy konwolucyjne.\n",
    "- Dobieranie parametrów tych warstw to bardziej sztuka niż nauka i wymaga sporej wprawy. Dlatego nie zajmiemy się tym na tych zajęciach."
   ]
  },
  {
   "cell_type": "code",
   "execution_count": 21,
   "metadata": {},
   "outputs": [],
   "source": [
    "from keras.layers.convolutional import Convolution2D, MaxPooling2D"
   ]
  },
  {
   "cell_type": "code",
   "execution_count": 22,
   "metadata": {},
   "outputs": [
    {
     "name": "stderr",
     "output_type": "stream",
     "text": [
      "/usr/lib/python3/dist-packages/ipykernel_launcher.py:4: UserWarning: Update your `Conv2D` call to the Keras 2 API: `Conv2D(8, (3, 3), input_shape=(28, 28, 1..., padding=\"valid\")`\n",
      "  after removing the cwd from sys.path.\n",
      "/usr/lib/python3/dist-packages/ipykernel_launcher.py:7: UserWarning: Update your `Conv2D` call to the Keras 2 API: `Conv2D(8, (3, 3))`\n",
      "  import sys\n"
     ]
    }
   ],
   "source": [
    "# Przykład sieci z warstwami konwolucyjnymi\n",
    "model = Sequential()\n",
    "\n",
    "model.add(Convolution2D(8, 3, 3, border_mode='valid', input_shape=(rozmiar, rozmiar, 1)))\n",
    "model.add(Activation('relu'))\n",
    "\n",
    "model.add(Convolution2D(8, 3, 3))\n",
    "model.add(Activation('relu'))\n",
    "\n",
    "model.add(MaxPooling2D(pool_size=(2, 2)))\n",
    "\n",
    "model.add(Flatten())\n",
    "model.add(Dense(32))\n",
    "model.add(Activation('relu'))\n",
    "\n",
    "model.add(Dense(10))\n",
    "model.add(Activation('softmax'))\n",
    "\n",
    "model.compile('adam', 'categorical_crossentropy')"
   ]
  },
  {
   "cell_type": "code",
   "execution_count": 23,
   "metadata": {},
   "outputs": [
    {
     "name": "stderr",
     "output_type": "stream",
     "text": [
      "/usr/lib/python3/dist-packages/ipykernel_launcher.py:2: UserWarning: The `nb_epoch` argument in `fit` has been renamed `epochs`.\n",
      "  \n"
     ]
    },
    {
     "name": "stdout",
     "output_type": "stream",
     "text": [
      "Epoch 1/5\n",
      "60000/60000 [==============================] - 23s 381us/step - loss: 0.2135\n",
      "Epoch 2/5\n",
      "60000/60000 [==============================] - 22s 372us/step - loss: 0.0780\n",
      "Epoch 3/5\n",
      "60000/60000 [==============================] - 22s 362us/step - loss: 0.0579\n",
      "Epoch 4/5\n",
      "60000/60000 [==============================] - 23s 386us/step - loss: 0.0445\n",
      "Epoch 5/5\n",
      "60000/60000 [==============================] - 22s 374us/step - loss: 0.0362\n"
     ]
    },
    {
     "data": {
      "text/plain": [
       "<keras.callbacks.History at 0x7fd0440d5be0>"
      ]
     },
     "execution_count": 23,
     "metadata": {},
     "output_type": "execute_result"
    }
   ],
   "source": [
    "liczba_iteracji = 5\n",
    "model.fit(X_train, Y_train, nb_epoch=liczba_iteracji)"
   ]
  },
  {
   "cell_type": "code",
   "execution_count": 24,
   "metadata": {},
   "outputs": [
    {
     "name": "stdout",
     "output_type": "stream",
     "text": [
      "\n",
      "Accuracy: 0.9841\n"
     ]
    }
   ],
   "source": [
    "# jak sobie poradziliśmy?\n",
    "preds = model.predict_classes(X_test)\n",
    "acc   = np.mean(preds == y_test)\n",
    "\n",
    "print(\"\\nAccuracy: {}\".format(acc))"
   ]
  },
  {
   "cell_type": "markdown",
   "metadata": {},
   "source": [
    "#### \"Prawdziwa\" sieć neuronowa\n",
    "- Keras udostępnia gotowe, wyuczone już modele.\n",
    "- Są to potężne sieci neuronowe, uczone tygodniami na olbrzymim zbiorze danych [Imagenet](http://www.image-net.org/)\n",
    "- Możemy wykorzystać tę sieć i szybko dostosować ją do własnych potrzeb"
   ]
  },
  {
   "cell_type": "markdown",
   "metadata": {},
   "source": [
    "- Spróbujemy w krótkim czasie stworzyć model, który z dużą dokładnością (ok. 90%) nauczy się odróżniać koty od psów\n",
    "- W tym celu potrzebne nam będą dwa dodatkowe pojęcia: `data augmentation` oraz `bottleneck features`"
   ]
  },
  {
   "cell_type": "markdown",
   "metadata": {},
   "source": [
    "#### Data augmentation\n",
    "- Jest to proces sztucznego \"powiększania\" zbioru dostępnych danych. \n",
    "- Powiedzmy, że mamy do dyspozycji 1000 zdjęć kotów. Aby nauczyć sieć neuronową, możemy ręcznie wygenerować na ich podstawie \"sztuczne\" dane: każdy z obrazków będziemy losowo obracać, skalować i rozciągać. W ten sposób dostarczymy więcej różnych zdjęć, nie ponosząc jednak kosztów fotografowania tysięcy kotów\n",
    "- Keras dostarcza gotową funkcję, `ImageDataGenerator`, która zajmie się tą transformacją za nas."
   ]
  },
  {
   "cell_type": "markdown",
   "metadata": {},
   "source": [
    "#### Bottleneck features\n",
    "- Wiemy, że sieć neuronowa posiada warstwy\n",
    "- Wiemy, że warstwy pobierają pewne dane, dokonują ich transformacji, i przekazują dalej. \n",
    "- Okazuje się, iż każda taka warstwa uczy się rozpoznawać pewną klasę obiektów, a im głębiej w sieć, tym bardziej abstrakcyjne są owe klasy.\n",
    "- Przykładowo, sieć rozpoznająca samochody może w pierwszej warstwie nauczyć się odróżniania krawędzi, w drugiej -- pojedynczych części (takich jak koła, okna...), a w kolejnych -- całych kształtów karoserii. "
   ]
  },
  {
   "cell_type": "markdown",
   "metadata": {},
   "source": [
    "![car](img/car.jpg)"
   ]
  },
  {
   "cell_type": "markdown",
   "metadata": {},
   "source": [
    "- Możemy tę właśność wykorzystać: zamiast próbować odróżniać od siebie wielkie tablice pikseli (zdjęcia psów vs zdjęcia kotów), będziemy starali się odróżniać reprezentacje wygenerowane przez wytrenowaną wcześniej sieć neuronową. \n",
    "- Oznacza to, iż zamienimy każdy obrazek na jego reprezentację. Taka reprezentacja koduje informacje o tym, co sieć \"widzi\" w danym obrazie.\n",
    "- Sieć, której użyjemy, nosi nazwę `VGG16`"
   ]
  },
  {
   "cell_type": "code",
   "execution_count": 25,
   "metadata": {},
   "outputs": [],
   "source": [
    "import os\n",
    "import h5py\n",
    "import numpy as np\n",
    "from keras.preprocessing.image import ImageDataGenerator\n",
    "from keras.models import Sequential\n",
    "from keras.layers import Activation, Dropout, Flatten, Dense, Input\n",
    "from keras.applications.vgg16 import VGG16"
   ]
  },
  {
   "cell_type": "code",
   "execution_count": 26,
   "metadata": {},
   "outputs": [],
   "source": [
    "img_width, img_height = 150, 150\n",
    "target_shape          = img_width, img_height\n",
    "train_data_dir        = 'data/train'\n",
    "valid_data_dir        = 'data/validation'\n",
    "features_train        = 'data/bottleneck_features_train.npy'\n",
    "features_valid        = 'data/bottleneck_features_valid.npy'\n",
    "n_dataset_iter        = 4\n",
    "n_img_per_class       = 1000\n",
    "nb_train_samples      = n_img_per_class * 2 * n_dataset_iter\n",
    "nb_validation_samples = n_img_per_class * 2 * n_dataset_iter\n",
    "nb_epoch              = 15\n",
    "\n",
    "def save_bottlebeck_features():\n",
    "    # data augmentation\n",
    "    datagen = ImageDataGenerator(rescale=1./255, shear_range=0.2, zoom_range=0.2, horizontal_flip=True)\n",
    "\n",
    "    # pretrained network to produce bottleneck features\n",
    "    model = Sequential()\n",
    "    core = VGG16(input_shape=(img_width, img_height, 3), include_top=False, weights='imagenet')\n",
    "    \n",
    "    model.add(core)\n",
    "    model.add(Flatten())\n",
    "    \n",
    "    # boilerplate\n",
    "    if os.path.basename(features_train) not in os.listdir(\"data\"):\n",
    "        generator = datagen.flow_from_directory(train_data_dir, target_size=target_shape, batch_size=32, class_mode=None, shuffle=False)\n",
    "        bottleneck_features_train = model.predict_generator(generator, nb_train_samples)\n",
    "        np.save(open(features_train, 'wb'), bottleneck_features_train)\n",
    "\n",
    "    if os.path.basename(features_valid) not in os.listdir(\"data\"):\n",
    "        generator = datagen.flow_from_directory(valid_data_dir, target_size=target_shape, batch_size=32, class_mode=None, shuffle=False)    \n",
    "        bottleneck_features_validation = model.predict_generator(generator, nb_validation_samples)\n",
    "        np.save(open(features_valid, 'wb'), bottleneck_features_validation)\n"
   ]
  },
  {
   "cell_type": "code",
   "execution_count": 27,
   "metadata": {
    "scrolled": true
   },
   "outputs": [
    {
     "name": "stdout",
     "output_type": "stream",
     "text": [
      "Downloading data from https://github.com/fchollet/deep-learning-models/releases/download/v0.1/vgg16_weights_tf_dim_ordering_tf_kernels_notop.h5\n",
      "58892288/58889256 [==============================] - 31s 1us/step\n"
     ]
    }
   ],
   "source": [
    "save_bottlebeck_features()"
   ]
  },
  {
   "cell_type": "code",
   "execution_count": 28,
   "metadata": {},
   "outputs": [],
   "source": [
    "# Wczytanie wygenerowanych danych\n",
    "data_train = np.load(open(features_train, 'rb'))\n",
    "data_valid = np.load(open(features_valid, 'rb'))\n",
    "\n",
    "labels_train = np.array([y for _ in range(n_dataset_iter) for y in [0] * n_img_per_class + [1] * n_img_per_class])\n",
    "labels_valid = np.array([y for _ in range(n_dataset_iter) for y in [0] * n_img_per_class + [1] * n_img_per_class])"
   ]
  },
  {
   "cell_type": "code",
   "execution_count": 29,
   "metadata": {},
   "outputs": [
    {
     "name": "stderr",
     "output_type": "stream",
     "text": [
      "/usr/lib/python3/dist-packages/ipykernel_launcher.py:11: UserWarning: The `nb_epoch` argument in `fit` has been renamed `epochs`.\n",
      "  # This is added back by InteractiveShellApp.init_path()\n"
     ]
    },
    {
     "name": "stdout",
     "output_type": "stream",
     "text": [
      "Train on 8000 samples, validate on 8000 samples\n",
      "Epoch 1/15\n",
      "8000/8000 [==============================] - 8s 967us/step - loss: 0.5368 - acc: 0.7873 - val_loss: 0.2987 - val_acc: 0.8719\n",
      "Epoch 2/15\n",
      "8000/8000 [==============================] - 7s 925us/step - loss: 0.3402 - acc: 0.8545 - val_loss: 0.2914 - val_acc: 0.8749\n",
      "Epoch 3/15\n",
      "8000/8000 [==============================] - 7s 920us/step - loss: 0.3006 - acc: 0.8759 - val_loss: 0.3221 - val_acc: 0.8652\n",
      "Epoch 4/15\n",
      "8000/8000 [==============================] - 7s 894us/step - loss: 0.2749 - acc: 0.8919 - val_loss: 0.3201 - val_acc: 0.8839\n",
      "Epoch 5/15\n",
      "8000/8000 [==============================] - 7s 862us/step - loss: 0.2587 - acc: 0.8967 - val_loss: 0.3228 - val_acc: 0.8834\n",
      "Epoch 6/15\n",
      "8000/8000 [==============================] - 7s 836us/step - loss: 0.2480 - acc: 0.9079 - val_loss: 0.3583 - val_acc: 0.8768\n",
      "Epoch 7/15\n",
      "8000/8000 [==============================] - 7s 862us/step - loss: 0.2268 - acc: 0.9141 - val_loss: 0.3332 - val_acc: 0.8800\n",
      "Epoch 8/15\n",
      "8000/8000 [==============================] - 7s 835us/step - loss: 0.2291 - acc: 0.9139 - val_loss: 0.3606 - val_acc: 0.8862\n",
      "Epoch 9/15\n",
      "8000/8000 [==============================] - 7s 836us/step - loss: 0.2209 - acc: 0.9164 - val_loss: 0.3755 - val_acc: 0.8828\n",
      "Epoch 10/15\n",
      "8000/8000 [==============================] - 7s 839us/step - loss: 0.2034 - acc: 0.9233 - val_loss: 0.3801 - val_acc: 0.8892\n",
      "Epoch 11/15\n",
      "8000/8000 [==============================] - 7s 838us/step - loss: 0.1979 - acc: 0.9275 - val_loss: 0.3982 - val_acc: 0.8864\n",
      "Epoch 12/15\n",
      "8000/8000 [==============================] - 8s 938us/step - loss: 0.1916 - acc: 0.9291 - val_loss: 0.4915 - val_acc: 0.8766\n",
      "Epoch 13/15\n",
      "8000/8000 [==============================] - 8s 945us/step - loss: 0.1801 - acc: 0.9306 - val_loss: 0.4213 - val_acc: 0.8819\n",
      "Epoch 14/15\n",
      "8000/8000 [==============================] - 8s 1ms/step - loss: 0.1886 - acc: 0.9331 - val_loss: 0.4533 - val_acc: 0.8728\n",
      "Epoch 15/15\n",
      "8000/8000 [==============================] - 8s 947us/step - loss: 0.1825 - acc: 0.9361 - val_loss: 0.4567 - val_acc: 0.8828\n"
     ]
    },
    {
     "data": {
      "text/plain": [
       "<keras.callbacks.History at 0x7fd0013b0da0>"
      ]
     },
     "execution_count": 29,
     "metadata": {},
     "output_type": "execute_result"
    }
   ],
   "source": [
    "# Budowa finalnego klasyfikatora\n",
    "model = Sequential()\n",
    "model.add(Dense(256, input_shape=data_train.shape[1:], activation='relu'))\n",
    "model.add(Dropout(0.75))\n",
    "model.add(Dense(1, activation='sigmoid'))\n",
    "\n",
    "# kompilacja: wybieramy optymalizator i funkcję straty\n",
    "model.compile(optimizer='rmsprop', loss='binary_crossentropy', metrics=['accuracy'])\n",
    "\n",
    "# uczymy!\n",
    "model.fit(data_train, labels_train, nb_epoch=nb_epoch, batch_size=32, validation_data=(data_valid, labels_valid))"
   ]
  },
  {
   "cell_type": "code",
   "execution_count": 30,
   "metadata": {},
   "outputs": [
    {
     "name": "stdout",
     "output_type": "stream",
     "text": [
      "\n",
      "Ostateczne Accuracy: 88.3%\n"
     ]
    }
   ],
   "source": [
    "preds = model.predict_classes(data_valid).ravel()\n",
    "acc   = np.mean(preds == labels_valid)\n",
    "print(\"\\nOstateczne Accuracy: {:.1f}%\".format(100 * acc))"
   ]
  },
  {
   "cell_type": "code",
   "execution_count": null,
   "metadata": {},
   "outputs": [],
   "source": []
  }
 ],
 "metadata": {
  "anaconda-cloud": {},
  "kernelspec": {
   "display_name": "Python 3",
   "language": "python",
   "name": "python3"
  },
  "language_info": {
   "codemirror_mode": {
    "name": "ipython",
    "version": 3
   },
   "file_extension": ".py",
   "mimetype": "text/x-python",
   "name": "python",
   "nbconvert_exporter": "python",
   "pygments_lexer": "ipython3",
   "version": "3.6.7"
  }
 },
 "nbformat": 4,
 "nbformat_minor": 2
}
